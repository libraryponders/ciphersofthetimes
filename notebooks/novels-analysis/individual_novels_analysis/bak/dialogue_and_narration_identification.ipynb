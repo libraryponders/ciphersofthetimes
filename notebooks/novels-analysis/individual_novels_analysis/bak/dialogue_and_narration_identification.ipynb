{
 "cells": [
  {
   "cell_type": "code",
   "execution_count": 1,
   "id": "e4e5d227-89e9-4a7a-88a7-f96f813d15fc",
   "metadata": {},
   "outputs": [],
   "source": [
    "### Partition Dialogue from Narration in a Novel:\n",
    "## print(re.findall('\"([^\"]*)\"', inputstring))\n",
    "# https://newbedev.com/regex-grabbing-values-between-quotation-marks\n",
    "# https://stackoverflow.com/questions/2947502/getting-dialogue-snippets-from-text-using-regular-expressions"
   ]
  },
  {
   "cell_type": "code",
   "execution_count": 5,
   "id": "fe73ba34-f6f5-4613-bbb3-97c2100f5d7d",
   "metadata": {},
   "outputs": [
    {
     "name": "stdout",
     "output_type": "stream",
     "text": [
      "Armadale\n"
     ]
    }
   ],
   "source": [
    "novel_to_analyze = 'Armadale.txt'\n",
    "novel_name = novel_to_analyze.split('.')[0]\n",
    "print(novel_name)\n",
    "## to all spreadsheets:\n",
    "path_to_spreadsheets = '../../../data/spreadsheets/'"
   ]
  },
  {
   "cell_type": "code",
   "execution_count": 9,
   "id": "0f10f36d-6c23-4ef9-b8cb-5d534620a061",
   "metadata": {},
   "outputs": [],
   "source": [
    "## Imports\n",
    "import codecs\n",
    "import re\n"
   ]
  },
  {
   "cell_type": "code",
   "execution_count": 10,
   "id": "ac2d1d7d-930e-46fc-b365-ceb0ce85d06e",
   "metadata": {},
   "outputs": [],
   "source": [
    "with codecs.open(path_to_nnovels_corpus + novel_to_analyze, 'r', encoding='utf-8', errors=\"ignore\") as raw_text:\n",
    "    dirty_text = raw_text.read()"
   ]
  },
  {
   "cell_type": "code",
   "execution_count": 22,
   "id": "2c3859d6-8531-44eb-a1fd-18e06506cb94",
   "metadata": {},
   "outputs": [
    {
     "ename": "SyntaxError",
     "evalue": "closing parenthesis ']' does not match opening parenthesis '(' (654402227.py, line 1)",
     "output_type": "error",
     "traceback": [
      "\u001b[0;36m  File \u001b[0;32m\"/var/folders/qc/zp281qzs35s7jg8lywg995f00000gn/T/ipykernel_79174/654402227.py\"\u001b[0;36m, line \u001b[0;32m1\u001b[0m\n\u001b[0;31m    print(re.findall(r\"'([^\"]*)'\", dirty_text))\u001b[0m\n\u001b[0m                            ^\u001b[0m\n\u001b[0;31mSyntaxError\u001b[0m\u001b[0;31m:\u001b[0m closing parenthesis ']' does not match opening parenthesis '('\n"
     ]
    }
   ],
   "source": [
    "print(re.findall(r\"'([^\"]*)'\", dirty_text))"
   ]
  },
  {
   "cell_type": "code",
   "execution_count": null,
   "id": "6bf272ce-8f6d-4a21-9cbb-f83c7f18a00f",
   "metadata": {},
   "outputs": [],
   "source": []
  },
  {
   "cell_type": "code",
   "execution_count": null,
   "id": "8250c82d-16d4-4b69-b2fd-7a3f53b6adab",
   "metadata": {},
   "outputs": [],
   "source": [
    "# dialogue_started = False\n",
    "# for index, row in df.iterrows():\n",
    "#     sent = row['sentences']\n",
    "#     sent = ''.join(char for char in sent if char not in characters_to_exclude_edited)\n",
    "#     sent = sent.strip()\n",
    "#     df.at[index, 'sentences'] = sent\n",
    "    \n",
    "#     # sent = row['sentences']\n",
    "#     if sent.startswith('\"'):\n",
    "#         dialogue_started = True\n",
    "#     if dialogue_started:\n",
    "#         df.at[index, 'narration_is_0_dialogue_is_1'] = 1\n",
    "\n",
    "#         if sent.endswith('\"'):\n",
    "#             dialogue_started = False\n",
    "            \n",
    "#         else:\n",
    "#             continue\n",
    "#     else:\n",
    "#         df.at[index, 'narration_is_0_dialogue_is_1'] = 0"
   ]
  },
  {
   "cell_type": "code",
   "execution_count": null,
   "id": "c06b267c-d631-4679-95c4-9844602c3663",
   "metadata": {},
   "outputs": [],
   "source": []
  },
  {
   "cell_type": "code",
   "execution_count": null,
   "id": "d28216c3-9948-4b8c-a194-8f93bb364d3c",
   "metadata": {},
   "outputs": [],
   "source": []
  }
 ],
 "metadata": {
  "kernelspec": {
   "display_name": "Python 3 (ipykernel)",
   "language": "python",
   "name": "python3"
  },
  "language_info": {
   "codemirror_mode": {
    "name": "ipython",
    "version": 3
   },
   "file_extension": ".py",
   "mimetype": "text/x-python",
   "name": "python",
   "nbconvert_exporter": "python",
   "pygments_lexer": "ipython3",
   "version": "3.9.7"
  }
 },
 "nbformat": 4,
 "nbformat_minor": 5
}
