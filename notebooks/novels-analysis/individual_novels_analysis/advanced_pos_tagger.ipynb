{
 "cells": [
  {
   "cell_type": "code",
   "execution_count": null,
   "id": "2ab2516a-872f-4c36-94a2-3396fc564e2b",
   "metadata": {},
   "outputs": [],
   "source": [
    "# https://analyticsindiamag.com/complete-tutorial-on-parts-of-speech-pos-tagging/"
   ]
  },
  {
   "cell_type": "code",
   "execution_count": null,
   "id": "0b69933e-51bf-4535-960b-f81386f72c75",
   "metadata": {},
   "outputs": [],
   "source": []
  },
  {
   "cell_type": "code",
   "execution_count": null,
   "id": "efcb92a0-ae56-4fad-b832-3393bb0825f2",
   "metadata": {},
   "outputs": [],
   "source": []
  },
  {
   "cell_type": "code",
   "execution_count": null,
   "id": "e0de4602-3e6a-4d92-a142-36ec9cf6a89a",
   "metadata": {},
   "outputs": [],
   "source": []
  },
  {
   "cell_type": "code",
   "execution_count": null,
   "id": "c9cd54c5-d00c-4d40-abfc-544f63fd6927",
   "metadata": {},
   "outputs": [],
   "source": []
  },
  {
   "cell_type": "code",
   "execution_count": null,
   "id": "56b5cc29-4078-4562-b65b-022017c07dc7",
   "metadata": {},
   "outputs": [],
   "source": []
  }
 ],
 "metadata": {
  "kernelspec": {
   "display_name": "Python 3 (ipykernel)",
   "language": "python",
   "name": "python3"
  },
  "language_info": {
   "codemirror_mode": {
    "name": "ipython",
    "version": 3
   },
   "file_extension": ".py",
   "mimetype": "text/x-python",
   "name": "python",
   "nbconvert_exporter": "python",
   "pygments_lexer": "ipython3",
   "version": "3.7.11"
  }
 },
 "nbformat": 4,
 "nbformat_minor": 5
}
