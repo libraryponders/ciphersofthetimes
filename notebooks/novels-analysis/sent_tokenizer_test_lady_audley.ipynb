{
 "cells": [
  {
   "cell_type": "code",
   "execution_count": 1,
   "id": "ea4991b4-39f3-4fcf-a5dc-bacf03c171c0",
   "metadata": {},
   "outputs": [],
   "source": [
    "### USEFUL:\n",
    "### https://www.holisticseo.digital/python-seo/nltk/tokenization\n",
    "### "
   ]
  },
  {
   "cell_type": "code",
   "execution_count": null,
   "id": "b2893b2d-6fa5-41f2-9fbc-9d0f39d16fe4",
   "metadata": {},
   "outputs": [],
   "source": []
  },
  {
   "cell_type": "code",
   "execution_count": null,
   "id": "567bf4f7-657b-4550-aa18-a9c72f17f0ad",
   "metadata": {},
   "outputs": [],
   "source": []
  },
  {
   "cell_type": "code",
   "execution_count": 1,
   "id": "a6a101f6-4bee-4bb5-b6fb-65d2027b0a48",
   "metadata": {},
   "outputs": [],
   "source": [
    "novel_to_analyze = 'Lady_Audleys_Secret_ed2.txt'"
   ]
  },
  {
   "cell_type": "code",
   "execution_count": 2,
   "id": "fd17314a-4ff8-46d3-97fc-9298dc5062f9",
   "metadata": {},
   "outputs": [],
   "source": [
    "import codecs\n",
    "import os\n",
    "import pandas as pd\n",
    "# to be able to see more columns when dataframes are printed out:\n",
    "pd.set_option('display.max_columns', 100)\n",
    "# to not get copy warnings when splitting dataframes\n",
    "pd.options.mode.chained_assignment = None\n",
    "import re\n",
    "import spacy\n",
    "import sys\n",
    "import numpy as np\n",
    "import matplotlib.pyplot as plt\n",
    "import random\n",
    "from nltk.tokenize import sent_tokenize"
   ]
  },
  {
   "cell_type": "code",
   "execution_count": 3,
   "id": "c060e3e7-c071-4086-aff8-11126b2e3636",
   "metadata": {},
   "outputs": [],
   "source": [
    "## to Newpaper Novel corpus:\n",
    "path_to_nnovels_corpus = '../../data/corpora/corpus_newspaper_novels/' \n",
    "\n",
    "## to assets:\n",
    "path_to_assets = '../../assets/'\n",
    "## characters and numbers to exclude from texts:\n",
    "exclude_file = 'characters_and_numbers_to_exclude.txt'\n",
    "\n",
    "# characters to exclude\n",
    "with codecs.open(path_to_assets + exclude_file, 'r', encoding='utf-8', errors=\"ignore\") as characters_to_exclude_raw:\n",
    "    characters_to_exclude = characters_to_exclude_raw.read()\n",
    "    characters_to_exclude = characters_to_exclude.split()"
   ]
  },
  {
   "cell_type": "code",
   "execution_count": null,
   "id": "de3aa96c-e9ff-4b2e-8989-1508047ba839",
   "metadata": {},
   "outputs": [],
   "source": []
  },
  {
   "cell_type": "code",
   "execution_count": 6,
   "id": "2110c3c8-97ec-4c56-af40-4720be69e000",
   "metadata": {},
   "outputs": [
    {
     "name": "stdout",
     "output_type": "stream",
     "text": [
      "7385\n",
      "['CHAPTER I. LUCY.', 'It lay down in a hollow, rich with fine old timber and luxuriant pastures; and you came upon it through an avenue of limes, bordered on either side by meadows, over the high hedges of which the cattle looked inquisitively at you as you passed, wondering, perhaps, what you wanted; for there was no thorough-fare, and unless you were going to the Court you had no business there at all.', 'At the end of this avenue there was an old arch and a clock tower, with a stupid, bewildering clock, which had only one hand\\x97and which jumped straight from one hour to the next\\x97and was therefore always in extremes.', 'Through this arch you walked straight into the gardens of Audley Court.', 'A smooth lawn lay before you, dotted with groups of rhododendrons, which grew in more perfection here than anywhere else in the county.', 'To the right there were the kitchen gardens, the fish-pond, and an orchard bordered by a dry moat, and a broken ruin of a wall, in some places thicker than it was high, and everywhere overgrown with trailing ivy, yellow stonecrop, and dark moss.', 'To the left there was a broad graveled walk, down which, years ago, when the place had been a convent, the quiet nuns had walked hand in hand; a wall bordered with espaliers, and shadowed on one side by goodly oaks, which shut out the flat landscape, and circled in the house and gardens with a darkening shelter.', 'The house faced the arch, and occupied three sides of a quadrangle.', 'It was very old, and very irregular and rambling.', 'The windows were uneven; some small, some large, some with heavy stone mullions and rich stained glass; others with frail lattices that rattled in every breeze; others so modern that they might have been added only yesterday.']\n"
     ]
    }
   ],
   "source": [
    "with codecs.open(path_to_nnovels_corpus + novel_to_analyze, 'r', encoding='utf-8', errors=\"ignore\") as raw_text:\n",
    "    dirty_text = raw_text.read()\n",
    "\n",
    "split_on = [\"END OF THE PROJECT GUTENBERG\",\"End of the Project Gutenberg EBook\",\"End of Project Gutenberg\",\"End of The Project Gutenberg\"] \n",
    "for text in split_on:\n",
    "    dirty_text = dirty_text.split(text)[0]\n",
    "prefixes = \"(Mr|St|Mrs|Ms|Dr)[.]\"\n",
    "newline_chars = \"(\\n|\\r)\"\n",
    "clean_text_string = re.sub(prefixes,\"\\\\1<prd>\", dirty_text)\n",
    "# clean_text_string = re.sub('[“”]', '\"', clean_text_string)\n",
    "clean_text_string = re.sub('(“|”|”)', '\"', clean_text_string)\n",
    "clean_text_list = sent_tokenize(clean_text_string)\n",
    "\n",
    "clean_sentences = []\n",
    "for sent in clean_text_list:\n",
    "    # res.append(re.sub('\\n', '', sent))\n",
    "    clean_sent = re.sub('\\n', ' ', sent)\n",
    "    clean_sent = re.sub('\\r', ' ', clean_sent)\n",
    "    clean_sent = re.sub('\\s+',' ', clean_sent)\n",
    "    clean_sentences.append(clean_sent)\n",
    "    \n",
    "\n",
    "print(len(clean_sentences))\n",
    "print(clean_sentences[:10])\n"
   ]
  },
  {
   "cell_type": "code",
   "execution_count": 11,
   "id": "df1911a8-7ce8-464b-a5a0-667f342d4bb8",
   "metadata": {},
   "outputs": [
    {
     "name": "stdout",
     "output_type": "stream",
     "text": [
      "7385\n",
      "51: What had been his marriage with Alicia's mother but a dull, jog-trot bargain made to keep some estate in the family that would have been just as well out of it?\n",
      "52: What had been his love for his first wife but a poor, pitiful, smoldering spark, too dull to be extinguished, too feeble to burn?\n",
      "53: But this was lovethis fever, this longing, this restless, uncertain, miserable hesitation; these cruel fears that his age was an insurmountable barrier to his happiness; this sick hatred of his white beard; this frenzied wish to be young again, with glistening raven hair, and a slim waist, such as he had twenty years before; these, wakeful nights and melancholy days, so gloriously brightened if he chanced to catch a glimpse of her sweet face behind the window curtains, as he drove past the surgeon's house; all these signs gave token of the truth, and told only too plainly that, at the sober age of fifty-five, Sir Michael Audley had fallen ill of the terrible fever called love.\n",
      "54: I do not think that, throughout his courtship, the baronet once calculated upon his wealth or his position as reasons for his success.\n",
      "55: If he ever remembered these things, he dismissed the thought of them with a shudder.\n",
      "56: It pained him too much to believe for a moment that any one so lovely and innocent could value herself against a splendid house or a good old title.\n",
      "57: No; his hope was that, as her life had been most likely one of toil and dependence, and as she was very young nobody exactly knew her age, but she looked little more than twenty, she might never have formed any attachment, and that he, being the first to woo her, might, by tender attentions, by generous watchfulness, by a love which should recall to her the father she had lost, and by a protecting care that should make him necessary to her, win her young heart, and obtain from her fresh and earliest love, the promise of her hand.\n",
      "58: It was a very romantic day-dream, no doubt; but, for all that, it seemed in a very fair way to be realized.\n",
      "59: Lucy Graham appeared by no means to dislike the baronet's attentions.\n",
      "60: There was nothing whatever in her manner that betrayed the shallow artifices employed by a woman who wishes to captivate a rich man.\n",
      "61: She was so accustomed to admiration from every one, high and low, that Sir Michael's conduct made very little impression upon her.\n",
      "62: Again, he had been so many years a widower that people had given up the idea of his ever marrying again.\n",
      "63: At last, however, Mrs<prd> Dawson spoke to the governess on the subject.\n",
      "64: The surgeon's wife was sitting in the school-room busy at work, while Lucy was putting the finishing touches on some water-color sketches done by her pupils.\n",
      "65: \"Do you know, my dear Miss Graham,\" said Mrs<prd> Dawson, \"I think you ought to consider yourself a remarkably lucky girl?\"\n",
      "66: The governess lifted her head from its stooping attitude, and stared wonderingly at her employer, shaking back a shower of curls.\n",
      "67: They were the most wonderful curls in the worldsoft and feathery, always floating away from her face, and making a pale halo round her head when the sunlight shone through them.\n",
      "68: \"What do you mean, my dear Mrs<prd> Dawson?\"\n",
      "69: she asked, dipping her camel's-hair brush into the wet aquamarine upon the palette, and poising it carefully before putting in the delicate streak of purple which was to brighten the horizon in her pupil's sketch.\n",
      "70: \"Why, I mean, my dear, that it only rests with yourself to become Lady Audley, and the mistress of Audley Court.\"\n",
      "71: Lucy Graham dropped the brush upon the picture, and flushed scarlet to the roots of her fair hair; and then grew pale again, far paler than Mrs<prd> Dawson had ever seen her before.\n",
      "72: \"My dear, don't agitate yourself,\" said the surgeon's wife, soothingly; \"you know that nobody asks you to marry Sir Michael unless you wish.\n",
      "73: Of course it would be a magnificent match; he has a splendid income, and is one of the most generous of men.\n",
      "74: Your position would be very high, and you would be enabled to do a great deal of good; but, as I said before, you must be entirely guided by your own feelings.\n",
      "75: Only one thing I must say, and that is that if Sir Michael's attentions are not agreeable to you, it is really scarcely honorable to encourage him.\"\n",
      "76: \"His attentionsencourage him!\"\n",
      "77: muttered Lucy, as if the words bewildered her.\n",
      "78: \"Pray, pray don't talk to me, Mrs<prd> Dawson.\n",
      "79: I had no idea of this.\n",
      "80: It is the last thing that would have occurred to me.\"\n",
      "81: She leaned her elbows on the drawing-board before her, and clasping her hands over her face, seemed for some minutes to be thinking deeply.\n",
      "82: She wore a narrow black ribbon round her neck, with a locket, or a cross, or a miniature, perhaps, attached to it; but whatever the trinket was, she always kept it hidden under her dress.\n",
      "83: Once or twice, while she sat silently thinking, she removed one of her hands from before her face, and fidgeted nervously with the ribbon, clutching at it with a half-angry gesture, and twisting it backward and forward between her fingers.\n",
      "84: \"I think some people are born to be unlucky, Mrs<prd> Dawson,\" she said, by-and-by; \"it would be a great deal too much good fortune for me to become Lady Audley.\"\n",
      "85: She said this with so much bitterness in her tone, that the surgeon's wife looked up at her with surprise.\n",
      "86: \"You unlucky, my dear!\"\n",
      "87: she exclaimed.\n",
      "88: \"I think you are the last person who ought to talk like thatyou, such a bright, happy creature, that it does every one good to see you.\n",
      "89: I'm sure I don't know what we shall do if Sir Michael robs us of you.\"\n",
      "90: After this conversation they often spoke upon the subject, and Lucy never again showed any emotion whatever when the baronet's admiration for her was canvassed.\n",
      "91: It was a tacitly understood thing in the surgeon's family that whenever Sir Michael proposed, the governess would quietly accept him; and, indeed, the simple Dawsons would have thought it something more than madness in a penniless girl to reject such an offer.\n",
      "92: So, one misty August evening, Sir Michael, sitting opposite to Lucy Graham, at a window in the surgeon's little drawing-room, took an opportunity while the family happened by some accident to be absent from the room, of speaking upon the subject nearest to his heart.\n",
      "93: He made the governess, in a few but solemn words, an offer of his hand.\n",
      "94: There was something almost touching in the manner and tone in which he spoke to herhalf in deprecation, knowing that he could hardly expect to be the choice of a beautiful young girl, and praying rather that she would reject him, even though she broke his heart by doing so, than that she should accept his offer if she did not love him.\n",
      "95: \"I scarcely think there is a greater sin, Lucy,\" he said, solemnly, \"than that of a woman who marries a man she does not love.\n",
      "96: You are so precious to me, my beloved, that deeply as my heart is set on this, and bitter as the mere thought of disappointment is to me, I would not have you commit such a sin for any happiness of mine.\n",
      "97: If my happiness could be achieved by such an act, which it could notwhich it never could,\" he repeated, earnestly\"nothing but misery can result from a marriage dictated by any motive but truth and love.\"\n",
      "98: Lucy Graham was not looking at Sir Michael, but straight out into the misty twilight and dim landscape far away beyond the little garden.\n",
      "99: The baronet tried to see her face, but her profile was turned to him, and he could not discover the expression of her eyes.\n"
     ]
    }
   ],
   "source": [
    "print(len(clean_sentences))\n",
    "for position, sent in enumerate(clean_sentences):\n",
    "    if (position > 50) & (position < 100):\n",
    "        print(position, end=': ')\n",
    "        print(sent)"
   ]
  },
  {
   "cell_type": "code",
   "execution_count": null,
   "id": "0fa7ba4a-5a11-4328-a003-dda1e588deb2",
   "metadata": {},
   "outputs": [],
   "source": [
    "processed_sentences = []\n",
    "temp_list_dialogue = []\n",
    "temp_list_narration = []\n",
    "dialogue_started = False\n",
    "\n",
    "\n",
    "for sent in clean_sentences:\n",
    "    if sent.startswith('\"'):\n",
    "        dialogue_started = True\n",
    "\n",
    "    if dialogue_started:\n",
    "        temp_list_dialogue.append(sent)\n",
    "        \n",
    "        if sent.endswith('\"'):\n",
    "            processed_sentences.append(['DIALOGUE', temp_list_dialogue])\n",
    "            temp_list_dialogue = []\n",
    "            dialogue_started = False\n",
    "        else:\n",
    "            continue\n",
    "    else:\n",
    "        temp_list_narration.append(sent)\n",
    "        processed_sentences.append(['NARRATION', temp_list_narration])\n",
    "        temp_list_narration = []\n",
    "        \n",
    "# print(processed_sentences[:50])"
   ]
  },
  {
   "cell_type": "code",
   "execution_count": null,
   "id": "67f7320b-7dfe-4542-a8b9-72bc406f98c4",
   "metadata": {},
   "outputs": [],
   "source": [
    "for position, sent in enumerate(processed_sentences):\n",
    "    print(position, end=': ')\n",
    "    print(sent)\n",
    "    if position == 50:\n",
    "        break"
   ]
  },
  {
   "cell_type": "code",
   "execution_count": null,
   "id": "b4b39f75-cb9c-4d6e-a382-1f263945ab98",
   "metadata": {},
   "outputs": [],
   "source": []
  },
  {
   "cell_type": "code",
   "execution_count": 8,
   "id": "c160b6da-52ad-4aa1-acda-ec92c85267d8",
   "metadata": {},
   "outputs": [],
   "source": [
    "# alphabets= \"([A-Za-z])\"\n",
    "# prefixes = \"(Mr|St|Mrs|Ms|Dr)[.]\"\n",
    "# suffixes = \"(Inc|Ltd|Jr|Sr|Co)\"\n",
    "# starters = \"(Mr|Mrs|Ms|Dr|He\\s|She\\s|It\\s|They\\s|Their\\s|Our\\s|We\\s|But\\s|However\\s|That\\s|This\\s|Wherever)\"\n",
    "# acronyms = \"([A-Z][.][A-Z][.](?:[A-Z][.])?)\"\n",
    "# websites = \"[.](com|net|org|io|gov)\"\n",
    "\n",
    "# def split_into_sentences(text):\n",
    "#     text = \" \" + text + \"  \"\n",
    "#     text = text.replace(\"\\n\",\" \")\n",
    "#     text = text.replace(\"\\r\",\" \")\n",
    "#     text = re.sub('\\s+',' ', text)\n",
    "#     text = re.sub('[“”]', '\"', text)\n",
    "#     text = re.sub(prefixes,\"\\\\1<prd>\",text)\n",
    "#     text = re.sub(websites,\"<prd>\\\\1\",text)\n",
    "#     if \"Ph.D\" in text: text = text.replace(\"Ph.D.\",\"Ph<prd>D<prd>\")\n",
    "#     text = re.sub(\"\\s\" + alphabets + \"[.] \",\" \\\\1<prd> \",text)\n",
    "#     text = re.sub(acronyms+\" \"+starters,\"\\\\1<stop> \\\\2\",text)\n",
    "#     text = re.sub(alphabets + \"[.]\" + alphabets + \"[.]\" + alphabets + \"[.]\",\"\\\\1<prd>\\\\2<prd>\\\\3<prd>\",text)\n",
    "#     text = re.sub(alphabets + \"[.]\" + alphabets + \"[.]\",\"\\\\1<prd>\\\\2<prd>\",text)\n",
    "#     text = re.sub(\" \"+suffixes+\"[.] \"+starters,\" \\\\1<stop> \\\\2\",text)\n",
    "#     text = re.sub(\" \"+suffixes+\"[.]\",\" \\\\1<prd>\",text)\n",
    "#     text = re.sub(\" \" + alphabets + \"[.]\",\" \\\\1<prd>\",text)\n",
    "#     if \"”\" in text: text = text.replace(\".”\",\"”.\")\n",
    "#     if \"\\\"\" in text: text = text.replace(\".\\\"\",\"\\\".\")\n",
    "#     if \"!\" in text: text = text.replace(\"!\\\"\",\"\\\"!\")\n",
    "#     if \"?\" in text: text = text.replace(\"?\\\"\",\"\\\"?\")\n",
    "#     text = text.replace(\".\",\".<stop>\")\n",
    "#     text = text.replace(\"?\",\"?<stop>\")\n",
    "#     text = text.replace(\"!\",\"!<stop>\")\n",
    "#     text = text.replace(\"<prd>\",\".\")\n",
    "#     sentences = text.split(\"<stop>\")\n",
    "#     sentences = sentences[:-1]\n",
    "#     sentences = [s.strip() for s in sentences]\n",
    "#     return sentences"
   ]
  },
  {
   "cell_type": "code",
   "execution_count": 9,
   "id": "e5e21756-4efc-4647-b91c-cdb2c5d450cd",
   "metadata": {},
   "outputs": [],
   "source": [
    "# clean_text2 = split_into_sentences(dirty_text)\n",
    "# print(len(clean_text2))\n",
    "# for position, sent in enumerate(reversed(clean_text2)):\n",
    "#     print(position)\n",
    "#     print(sent)\n",
    "#     if position == 20:\n",
    "#         break\n",
    "    \n",
    "# # print(len(clean_text2))\n",
    "# # print(clean_text2[:10])"
   ]
  },
  {
   "cell_type": "code",
   "execution_count": null,
   "id": "69c33196-aabc-47c7-a699-abdba265c1b5",
   "metadata": {},
   "outputs": [],
   "source": []
  }
 ],
 "metadata": {
  "kernelspec": {
   "display_name": "Python 3 (ipykernel)",
   "language": "python",
   "name": "python3"
  },
  "language_info": {
   "codemirror_mode": {
    "name": "ipython",
    "version": 3
   },
   "file_extension": ".py",
   "mimetype": "text/x-python",
   "name": "python",
   "nbconvert_exporter": "python",
   "pygments_lexer": "ipython3",
   "version": "3.9.7"
  }
 },
 "nbformat": 4,
 "nbformat_minor": 5
}
